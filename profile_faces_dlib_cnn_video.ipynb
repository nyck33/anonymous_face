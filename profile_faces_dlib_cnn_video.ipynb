{
  "nbformat": 4,
  "nbformat_minor": 0,
  "metadata": {
    "colab": {
      "name": "profile_faces_dlib_cnn_video.ipynb",
      "version": "0.3.2",
      "provenance": [],
      "collapsed_sections": [],
      "include_colab_link": true
    },
    "kernelspec": {
      "name": "python3",
      "display_name": "Python 3"
    },
    "accelerator": "GPU"
  },
  "cells": [
    {
      "cell_type": "markdown",
      "metadata": {
        "id": "view-in-github",
        "colab_type": "text"
      },
      "source": [
        "<a href=\"https://colab.research.google.com/github/nyck33/anonymous_face/blob/master/profile_faces_dlib_cnn_video.ipynb\" target=\"_parent\"><img src=\"https://colab.research.google.com/assets/colab-badge.svg\" alt=\"Open In Colab\"/></a>"
      ]
    },
    {
      "cell_type": "code",
      "metadata": {
        "id": "GMJdmI8ILePw",
        "colab_type": "code",
        "colab": {
          "base_uri": "https://localhost:8080/",
          "height": 654
        },
        "outputId": "9bb66c39-d0fc-48d4-811c-93bf02fc4494"
      },
      "source": [
        "#install dependencies and wget weights file\n",
        "! pip3 uninstall opencv_python\n",
        "! pip3 install dlib argparse opencv_python\n",
        "#! pip3 uninstall opencv_python\n",
        "#! pip3 install opencv_python --user\n",
        "#! pip3 install 'imgaug<0.2.7,>=0.2.5'  --force-reinstall\n",
        "! wget http://arunponnusamy.com/files/mmod_human_face_detector.dat"
      ],
      "execution_count": 32,
      "outputs": [
        {
          "output_type": "stream",
          "text": [
            "Uninstalling opencv-python-4.1.0.25:\n",
            "  Would remove:\n",
            "    /root/.local/lib/python3.6/site-packages/cv2/*\n",
            "    /root/.local/lib/python3.6/site-packages/opencv_python-4.1.0.25.dist-info/*\n",
            "Proceed (y/n)? y\n",
            "  Successfully uninstalled opencv-python-4.1.0.25\n",
            "Requirement already satisfied: dlib in /usr/local/lib/python3.6/dist-packages (19.16.0)\n",
            "Requirement already satisfied: argparse in /usr/local/lib/python3.6/dist-packages (1.4.0)\n",
            "Collecting opencv_python\n",
            "  Using cached https://files.pythonhosted.org/packages/7b/d2/a2dbf83d4553ca6b3701d91d75e42fe50aea97acdc00652dca515749fb5d/opencv_python-4.1.0.25-cp36-cp36m-manylinux1_x86_64.whl\n",
            "Requirement already satisfied: numpy>=1.11.3 in /usr/local/lib/python3.6/dist-packages (from opencv_python) (1.16.4)\n",
            "Installing collected packages: opencv-python\n",
            "Successfully installed opencv-python-4.1.0.25\n"
          ],
          "name": "stdout"
        },
        {
          "output_type": "display_data",
          "data": {
            "application/vnd.colab-display-data+json": {
              "pip_warning": {
                "packages": [
                  "cv2"
                ]
              }
            }
          },
          "metadata": {
            "tags": []
          }
        },
        {
          "output_type": "stream",
          "text": [
            "--2019-07-05 06:06:14--  http://arunponnusamy.com/files/mmod_human_face_detector.dat\n",
            "Resolving arunponnusamy.com (arunponnusamy.com)... 185.199.108.153, 185.199.109.153, 185.199.110.153, ...\n",
            "Connecting to arunponnusamy.com (arunponnusamy.com)|185.199.108.153|:80... connected.\n",
            "HTTP request sent, awaiting response... 301 Moved Permanently\n",
            "Location: https://www.arunponnusamy.com/files/mmod_human_face_detector.dat [following]\n",
            "--2019-07-05 06:06:14--  https://www.arunponnusamy.com/files/mmod_human_face_detector.dat\n",
            "Resolving www.arunponnusamy.com (www.arunponnusamy.com)... 185.199.111.153, 185.199.109.153, 185.199.110.153, ...\n",
            "Connecting to www.arunponnusamy.com (www.arunponnusamy.com)|185.199.111.153|:443... connected.\n",
            "HTTP request sent, awaiting response... 200 OK\n",
            "Length: 729940 (713K) [application/octet-stream]\n",
            "Saving to: ‘mmod_human_face_detector.dat’\n",
            "\n",
            "\r          mmod_huma   0%[                    ]       0  --.-KB/s               \rmmod_human_face_det 100%[===================>] 712.83K  --.-KB/s    in 0.01s   \n",
            "\n",
            "2019-07-05 06:06:15 (48.3 MB/s) - ‘mmod_human_face_detector.dat’ saved [729940/729940]\n",
            "\n"
          ],
          "name": "stdout"
        }
      ]
    },
    {
      "cell_type": "code",
      "metadata": {
        "id": "8RDgyoFqVar3",
        "colab_type": "code",
        "colab": {
          "base_uri": "https://localhost:8080/",
          "height": 128
        },
        "outputId": "d4050179-db1d-4741-cbd8-c296e7c68b74"
      },
      "source": [
        "# Run this cell to mount your Google Drive.\n",
        "from google.colab import drive\n",
        "drive.mount('/content/drive')"
      ],
      "execution_count": 2,
      "outputs": [
        {
          "output_type": "stream",
          "text": [
            "Go to this URL in a browser: https://accounts.google.com/o/oauth2/auth?client_id=947318989803-6bn6qk8qdgf4n4g3pfee6491hc0brc4i.apps.googleusercontent.com&redirect_uri=urn%3Aietf%3Awg%3Aoauth%3A2.0%3Aoob&scope=email%20https%3A%2F%2Fwww.googleapis.com%2Fauth%2Fdocs.test%20https%3A%2F%2Fwww.googleapis.com%2Fauth%2Fdrive%20https%3A%2F%2Fwww.googleapis.com%2Fauth%2Fdrive.photos.readonly%20https%3A%2F%2Fwww.googleapis.com%2Fauth%2Fpeopleapi.readonly&response_type=code\n",
            "\n",
            "Enter your authorization code:\n",
            "··········\n",
            "Mounted at /content/drive\n"
          ],
          "name": "stdout"
        }
      ]
    },
    {
      "cell_type": "code",
      "metadata": {
        "id": "wI_2SWDQqq97",
        "colab_type": "code",
        "colab": {
          "base_uri": "https://localhost:8080/",
          "height": 35
        },
        "outputId": "9849589b-ddcf-4d57-ce57-e4b72ccdce4b"
      },
      "source": [
        "#remount drive\n",
        "drive.mount(\"/content/drive\", force_remount=True)"
      ],
      "execution_count": 20,
      "outputs": [
        {
          "output_type": "stream",
          "text": [
            "Mounted at /content/drive\n"
          ],
          "name": "stdout"
        }
      ]
    },
    {
      "cell_type": "code",
      "metadata": {
        "id": "TH6cANJxuKag",
        "colab_type": "code",
        "colab": {
          "base_uri": "https://localhost:8080/",
          "height": 126
        },
        "outputId": "184426ec-2a64-4cfe-e2f9-81ddb2b0fffa"
      },
      "source": [
        "%cd content #/drive/My Drive/Pornflow\n",
        "!pwd\n",
        "%cd ../..\n",
        "%cd content\n",
        "!pwd"
      ],
      "execution_count": 50,
      "outputs": [
        {
          "output_type": "stream",
          "text": [
            "[Errno 2] No such file or directory: 'content #/drive/My Drive/Pornflow'\n",
            "/\n",
            "/\n",
            "/\n",
            "/content\n",
            "/content\n"
          ],
          "name": "stdout"
        }
      ]
    },
    {
      "cell_type": "code",
      "metadata": {
        "id": "e0YukFwGyXoj",
        "colab_type": "code",
        "colab": {}
      },
      "source": [
        "# import required packages\n",
        "import cv2\n",
        "import sys\n",
        "import dlib\n",
        "import argparse\n",
        "import time\n",
        "import os\n",
        "import numpy as np\n",
        "'''\n",
        "# handle command line arguments##########################################\n",
        "ap = argparse.ArgumentParser()\n",
        "ap.add_argument('-i', '--image', required=True, help='path to image file')\n",
        "ap.add_argument('-w', '--weights', default='./mmod_human_face_detector.dat',\n",
        "\t\t\t\thelp='path to weights file')\n",
        "args = ap.parse_args()\n",
        "\n",
        "# load input image\n",
        "image = cv2.imread(args.image)\n",
        "\n",
        "if image is None:\n",
        "\tprint(\"Could not read input image\")\n",
        "\texit()\n",
        "#######################################################################\n",
        "'''\n",
        "#weights = np.loadtxt('mmod_human_face_detector.dat')\n",
        "\n",
        "vid_name = \"demoPornhub.mp4\"\n",
        "video = cv2.VideoCapture(\"demoPornhub.mp4\")\n",
        "fourcc = cv2.VideoWriter_fourcc(*'XVID')\n",
        "\n",
        "if not video.isOpened():  # ファイルがオープンできない場合の処理.\n",
        "\tprint(\"Could not open video\")\n",
        "\tsys.exit()\n",
        "\n",
        "#get vid info\n",
        "vidw = video.get(cv2.CAP_PROP_FRAME_WIDTH)\n",
        "vidh = video.get(cv2.CAP_PROP_FRAME_HEIGHT)\n",
        "fps = int(video.get(cv2.CAP_PROP_FPS))\n",
        "\n",
        "output_video_path = 'demoPorn.avi'\n",
        "\n",
        "out = cv2.VideoWriter(output_video_path, fourcc, fps, (int(vidw), int(vidh)))\n",
        "\n",
        "#success, image = vidcap.read()\n",
        "count = 0\n",
        "\n",
        "success, image = video.read()\n",
        "\n",
        "if not success:\n",
        "\tprint('Can\\'t read video file')\n",
        "\tsys.exit()\n",
        "\n",
        "while success:\n",
        "\n",
        "\t# initialize hog + svm based face detector\n",
        "\thog_face_detector = dlib.get_frontal_face_detector()\n",
        "\n",
        "\t# initialize cnn based face detector with the weights\n",
        "\t#cnn_face_detector = dlib.cnn_face_detection_model_v1(args.weights)\n",
        "\tcnn_face_detector= dlib.cnn_face_detection_model_v1('mmod_human_face_detector.dat')\n",
        "\n",
        "\tstart = time.time()\n",
        "\n",
        "\t# apply face detection (hog)\n",
        "\tfaces_hog = hog_face_detector(image, 1)\n",
        "\n",
        "\tend = time.time()\n",
        "\t#print(\"Execution Time (in seconds) :\")\n",
        "\t#print(\"HOG : \", format(end - start, '.2f'))\n",
        "\n",
        "\t#loop over detected faces\n",
        "\tfor face in faces_hog:\n",
        "\t\tx = face.left()\n",
        "\t\ty = face.top()\n",
        "\t\tw = face.right() - x\n",
        "\t\th = face.bottom() - y\n",
        "\n",
        "\t\t# draw box over face\n",
        "\t\tcv2.rectangle(image, (x,y), (x+w,y+h), (0,255,0), 2)\n",
        "\n",
        "\n",
        "\t#start = time.time()\n",
        "\n",
        "\t# apply face detection (cnn)\n",
        "\tfaces_cnn = cnn_face_detector(image, 1)\n",
        "\n",
        "\t#end = time.time()\n",
        "\t#print(\"CNN : \", format(end - start, '.2f'))\n",
        "\n",
        "\t# loop over detected faces\n",
        "\tfor face in faces_cnn:\n",
        "\t\tx = face.rect.left()\n",
        "\t\ty = face.rect.top()\n",
        "\t\tw = face.rect.right() - x\n",
        "\t\th = face.rect.bottom() - y\n",
        "\n",
        "\t\t# draw box over face\n",
        "\t\tcv2.rectangle(image, (x,y), (x+w,y+h), (0,0,255), 2)\n",
        "\n",
        "\t# write at the top left corner of the image\n",
        "\t# for color identification\n",
        "\timg_height, img_width = image.shape[:2]\n",
        "\tcv2.putText(image, \"HOG\", (img_width-50,20), cv2.FONT_HERSHEY_SIMPLEX, 0.5,\n",
        "\t\t\t\t(0,255,0), 2)\n",
        "\tcv2.putText(image, \"CNN\", (img_width-50,40), cv2.FONT_HERSHEY_SIMPLEX, 0.5,\n",
        "\t\t\t\t(0,0,255), 2)\n",
        "\n",
        "\n",
        "\t#display output image\n",
        "\t#cv2.imshow(\"face detection with dlib\", image)\n",
        "\t#cv2.waitKey()\n",
        "\n",
        "\t#save output image \n",
        "\tcv2.imwrite(\"cnn_face_detection.png\", image)\n",
        "\n",
        "\tout.write(image)\n",
        "\t\n",
        "\tsuccess, image = video.read()\n",
        "\tif not success:\n",
        "\t\tprint('Can\\'t read video file')\n",
        "\t\tsys.exit()\n",
        "\n",
        "video.release()\n",
        "out.release()\n",
        "# close all windows\n",
        "cv2.destroyAllWindows()"
      ],
      "execution_count": 0,
      "outputs": []
    }
  ]
}